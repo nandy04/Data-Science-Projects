{
 "cells": [
  {
   "cell_type": "markdown",
   "metadata": {},
   "source": [
    "# 5661 Homework 3\n",
    "### Nanditha Raja - 305831258"
   ]
  },
  {
   "cell_type": "code",
   "execution_count": 1,
   "metadata": {
    "collapsed": true
   },
   "outputs": [],
   "source": [
    "%matplotlib inline\n",
    "import matplotlib.image as mpimg \n",
    "import matplotlib.pyplot as plt\n",
    "\n",
    "# Importing the required packages and libraries\n",
    "# we will need numpy and pandas later\n",
    "import numpy as np\n",
    "import pandas as pd\n",
    "\n",
    "from sklearn.metrics import accuracy_score\n",
    "from sklearn.svm import SVC\n",
    "from sklearn.preprocessing import scale"
   ]
  },
  {
   "cell_type": "code",
   "execution_count": 2,
   "metadata": {
    "collapsed": true
   },
   "outputs": [],
   "source": [
    "# reading a CSV file directly from Web, and store it in a pandas DataFrame:\n",
    "# \"read_csv\" is a pandas function to read csv files from web or local device:\n",
    "#iris_df = pd.read_csv('C:/Users/harish/Desktop/Fall17/CS4661/Lectures/HW/HW3/Heart_s.csv')\n",
    "\n",
    "PATH = 'D:/Spring 2018/5661/HW3/Face/'\n",
    "\n",
    "img0 = mpimg.imread('D:/Spring 2018/5661/HW3/Face/0.jpg')"
   ]
  },
  {
   "cell_type": "code",
   "execution_count": 3,
   "metadata": {},
   "outputs": [
    {
     "data": {
      "text/plain": [
       "<matplotlib.image.AxesImage at 0x195177f3198>"
      ]
     },
     "execution_count": 3,
     "metadata": {},
     "output_type": "execute_result"
    },
    {
     "data": {
      "image/png": "[encoded data removed]",
      "text/plain": [
       "<matplotlib.figure.Figure at 0x19517613e80>"
      ]
     },
     "metadata": {},
     "output_type": "display_data"
    }
   ],
   "source": [
    "plt.imshow(img0,cmap=plt.cm.gray_r,interpolation='nearest')"
   ]
  },
  {
   "cell_type": "code",
   "execution_count": 4,
   "metadata": {},
   "outputs": [
    {
     "name": "stdout",
     "output_type": "stream",
     "text": [
      "[[   0.    0.    0. ...,    0.    0.    0.]\n",
      " [ 204.  198.  194. ...,  120.  164.  167.]\n",
      " [  86.   79.   82. ...,  189.  185.  141.]\n",
      " ..., \n",
      " [ 163.  177.  193. ...,   44.   48.   53.]\n",
      " [ 145.  147.  151. ...,  132.  114.  117.]\n",
      " [  91.   74.   66. ...,   75.   44.   46.]]\n"
     ]
    }
   ],
   "source": [
    "df = np.zeros((400,4096))\n",
    "\n",
    "# Reading all the images and storing them\n",
    "for i in range (1,400):\n",
    "    img = mpimg.imread('D:/Spring 2018/5661/HW3/Face/'+ str(i)+'.jpg')\n",
    "    reshape = img.reshape(4096)\n",
    "    df[i] = np.copy(reshape)\n",
    "\n",
    "print(df)"
   ]
  },
  {
   "cell_type": "code",
   "execution_count": 5,
   "metadata": {
    "collapsed": true
   },
   "outputs": [],
   "source": [
    "# Creating the Feature Matrix for the dataset:\n",
    "\n",
    "X = pd.DataFrame(df)  \n",
    "#print (X [0::10])\n",
    "X = scale(X,axis=0)\n",
    "\n",
    "# select a Series of labels (the last column) from the DataFrame\n",
    "label = pd.read_csv('D:/Spring 2018/5661/HW3/label.csv')\n",
    "\n",
    "y = label['Label']\n",
    "#print (y [0::100])"
   ]
  },
  {
   "cell_type": "code",
   "execution_count": 6,
   "metadata": {
    "collapsed": true
   },
   "outputs": [],
   "source": [
    "# Randomly splitting the original dataset into training set and testing set\n",
    "# The function\"train_test_split\" from \"sklearn.cross_validation\" library performs random splitting.\n",
    "# \"test_size=0.1\" means that pick 10% of data samples for testing set, and the rest (90%) for training set.\n",
    "from sklearn.model_selection import train_test_split\n",
    "\n",
    "X_train, X_test, y_train, y_test = train_test_split(X, y, test_size=0.25, random_state=5)"
   ]
  },
  {
   "cell_type": "code",
   "execution_count": 7,
   "metadata": {
    "collapsed": true
   },
   "outputs": [],
   "source": [
    "from  sklearn.decomposition  import  PCA \n",
    "\n",
    "k = 50 # (k  is the number of components (new features) after dimensionality reduction) \n",
    "my_pca = PCA(n_components = k) \n",
    "\n",
    "# X_train is feature matrix of training set before dimensionality reduction,   \n",
    "# X_train_new is feature matrix of training set after dimensionality reduction: \n",
    "X_train_new = my_pca.fit_transform(X_train) \n",
    "X_test_new = my_pca.transform(X_test) "
   ]
  },
  {
   "cell_type": "code",
   "execution_count": 8,
   "metadata": {},
   "outputs": [
    {
     "name": "stdout",
     "output_type": "stream",
     "text": [
      "[16 32 39 22 29 38 21 12 23 28  9 13 29 21 10  1 36 11 39 25  8 26 19 12 35\n",
      "  7 21 20  8 14  7 33 23  0 20  1 38 25  8 23 39  2 10 13 38 25 26 18  4 36\n",
      " 26 17 13 16 38 36  4 36  5  6 14  9  7  7  9 22  6  6 24  0  4 31 31 37 14\n",
      " 22 16 34 11 15 15  0  2 25  5 34 11 18 22 11 12  1 16 24 36 33 32 13 38 20]\n"
     ]
    }
   ],
   "source": [
    "SVM = SVC(C=1, kernel='rbf', gamma=0.0005, random_state=1)\n",
    "SVM.fit(X_train_new, y_train)\n",
    "SVM_pred = SVM.predict(X_test_new)\n",
    "\n",
    "print(SVM_pred)"
   ]
  },
  {
   "cell_type": "code",
   "execution_count": 10,
   "metadata": {},
   "outputs": [
    {
     "name": "stdout",
     "output_type": "stream",
     "text": [
      "0.9\n"
     ]
    }
   ],
   "source": [
    "score_SVM = accuracy_score(y_test, SVM_pred)\n",
    "print(score_SVM)"
   ]
  },
  {
   "cell_type": "code",
   "execution_count": 11,
   "metadata": {},
   "outputs": [
    {
     "name": "stdout",
     "output_type": "stream",
     "text": [
      "Confusion matrix:\n",
      "[[3 0 0 ..., 0 0 0]\n",
      " [0 3 0 ..., 0 0 0]\n",
      " [0 0 1 ..., 0 0 0]\n",
      " ..., \n",
      " [0 0 0 ..., 0 0 0]\n",
      " [0 0 0 ..., 0 4 0]\n",
      " [0 0 0 ..., 0 0 1]]\n"
     ]
    }
   ],
   "source": [
    "from sklearn import metrics\n",
    "\n",
    "cm_ANN = metrics.confusion_matrix(y_test, SVM_pred)\n",
    "\n",
    "print(\"Confusion matrix:\")\n",
    "print(cm_ANN)\n"
   ]
  },
  {
   "cell_type": "code",
   "execution_count": 12,
   "metadata": {},
   "outputs": [
    {
     "name": "stdout",
     "output_type": "stream",
     "text": [
      "{'C': [0.1, 1, 10, 100, 1000.0, 5000.0, 10000.0, 50000.0, 100000.0]} \n",
      "\n",
      "0.9675\n",
      "{'C': 10}\n"
     ]
    }
   ],
   "source": [
    "from sklearn.model_selection import GridSearchCV\n",
    "list_val = [0.1, 1, 10, 100, 1e3, 5e3, 1e4, 5e4, 1e5]\n",
    "\n",
    "# create a dictionary for grid parameter:\n",
    "param_grid = dict(C = list_val)\n",
    "print(param_grid,'\\n')\n",
    "\n",
    "# creat the grid, and define the metric for evaluating the model: \n",
    "grid = GridSearchCV(SVC(kernel='rbf', random_state=1), param_grid, cv=10, scoring='accuracy')\n",
    "\n",
    "# fit the grid (start the grid search):\n",
    "grid.fit(X, y)\n",
    "\n",
    "# view the results:\n",
    "#print(grid.cv_results_)\n",
    "\n",
    "# view the best results corresponding to the best structure of ANN:\n",
    "print(grid.best_score_)\n",
    "print(grid.best_params_)"
   ]
  },
  {
   "cell_type": "code",
   "execution_count": null,
   "metadata": {
    "collapsed": true
   },
   "outputs": [],
   "source": []
  }
 ],
 "metadata": {
  "anaconda-cloud": {},
  "kernelspec": {
   "display_name": "Python 3",
   "language": "python",
   "name": "python3"
  },
  "language_info": {
   "codemirror_mode": {
    "name": "ipython",
    "version": 3
   },
   "file_extension": ".py",
   "mimetype": "text/x-python",
   "name": "python",
   "nbconvert_exporter": "python",
   "pygments_lexer": "ipython3",
   "version": "3.6.1"
  }
 },
 "nbformat": 4,
 "nbformat_minor": 1
}
