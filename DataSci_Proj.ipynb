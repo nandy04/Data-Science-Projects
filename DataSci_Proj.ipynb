{
 "cells": [
  {
   "cell_type": "code",
   "execution_count": 79,
   "metadata": {
    "collapsed": true
   },
   "outputs": [],
   "source": [
    "# Importing all the necessary libraries that would be used below\n",
    "\n",
    "# Allows charts to appear in the notebook\n",
    "%matplotlib inline\n",
    "\n",
    "import seaborn as sns\n",
    "import matplotlib.pyplot as plt\n",
    "\n",
    "import numpy as np\n",
    "import pandas as pd\n",
    "\n",
    "from sklearn.tree import DecisionTreeClassifier\n",
    "from sklearn.ensemble import RandomForestClassifier\n",
    "from sklearn.tree import ExtraTreeClassifier\n",
    "from sklearn.ensemble import ExtraTreesClassifier\n",
    "from sklearn.linear_model import LogisticRegression\n",
    "from sklearn.linear_model import LinearRegression\n",
    "from sklearn.linear_model import SGDClassifier\n",
    "from sklearn.neighbors import KNeighborsClassifier\n",
    "from sklearn.naive_bayes import GaussianNB\n",
    "\n",
    "from sklearn.model_selection import train_test_split\n",
    "from sklearn.metrics import accuracy_score\n",
    "from sklearn.preprocessing import scale\n",
    "from sklearn import metrics"
   ]
  },
  {
   "cell_type": "code",
   "execution_count": 33,
   "metadata": {},
   "outputs": [
    {
     "name": "stdout",
     "output_type": "stream",
     "text": [
      "  AnimalID     Name          DateTime      OutcomeType OutcomeSubtype  \\\n",
      "0  A671945  Hambone  12-02-2014 18:22  Return_to_owner            NaN   \n",
      "1  A656520    Emily  13-10-2013 12:44       Euthanasia      Suffering   \n",
      "2  A686464   Pearce  31-01-2015 12:28         Adoption         Foster   \n",
      "3  A683430      NaN  11-07-2014 19:09         Transfer        Partner   \n",
      "4  A667013      NaN  15-11-2013 12:52         Transfer        Partner   \n",
      "\n",
      "  AnimalType SexuponOutcome AgeuponOutcome                        Breed  \\\n",
      "0        Dog  Neutered Male         1 year        Shetland Sheepdog Mix   \n",
      "1        Cat  Spayed Female         1 year       Domestic Shorthair Mix   \n",
      "2        Dog  Neutered Male        2 years                 Pit Bull Mix   \n",
      "3        Cat    Intact Male        3 weeks       Domestic Shorthair Mix   \n",
      "4        Dog  Neutered Male        2 years  Lhasa Apso/Miniature Poodle   \n",
      "\n",
      "         Color  \n",
      "0  Brown/White  \n",
      "1  Cream Tabby  \n",
      "2   Blue/White  \n",
      "3   Blue Cream  \n",
      "4          Tan  \n",
      "   ID      Name          DateTime AnimalType SexuponOutcome AgeuponOutcome  \\\n",
      "0   1    Summer  12-10-2015 12:15        Dog  Intact Female      10 months   \n",
      "1   2  Cheyenne  26-07-2014 17:59        Dog  Spayed Female        2 years   \n",
      "2   3       Gus  13-01-2016 12:20        Cat  Neutered Male         1 year   \n",
      "3   4     Pongo  28-12-2013 18:12        Dog    Intact Male       4 months   \n",
      "4   5   Skooter  24-09-2015 17:59        Dog  Neutered Male        2 years   \n",
      "\n",
      "                            Breed        Color  \n",
      "0          Labrador Retriever Mix    Red/White  \n",
      "1  German Shepherd/Siberian Husky    Black/Tan  \n",
      "2          Domestic Shorthair Mix  Brown Tabby  \n",
      "3               Collie Smooth Mix     Tricolor  \n",
      "4            Miniature Poodle Mix        White  \n"
     ]
    }
   ],
   "source": [
    "# reading a CSV file directly from Web, and store it in a pandas DataFrame:\n",
    "# \"read_csv\" is a pandas function to read csv files from web or local device:\n",
    "\n",
    "df = pd.read_csv('C:/Users/harish/Desktop/Fall17/CS4661/dog_shelter_outcomes.csv')\n",
    "test_df = pd.read_csv('C:/Users/harish/Desktop/Fall17/CS4661/test.csv')\n",
    "print (df.head())\n",
    "print (test_df.head())"
   ]
  },
  {
   "cell_type": "markdown",
   "metadata": {},
   "source": [
    "## Checking the distribution of the animal types, namely CATs & DOGs in the data set.\n",
    "### It looks like the number of dogs is more compared to number of cats."
   ]
  },
  {
   "cell_type": "code",
   "execution_count": 34,
   "metadata": {},
   "outputs": [
    {
     "data": {
      "text/plain": [
       "<matplotlib.axes._subplots.AxesSubplot at 0xdf38a69e48>"
      ]
     },
     "execution_count": 34,
     "metadata": {},
     "output_type": "execute_result"
    },
    {
     "data": {
      "image/png": "[encoded data removed]",
      "text/plain": [
       "<matplotlib.figure.Figure at 0xdf371b4438>"
      ]
     },
     "metadata": {},
     "output_type": "display_data"
    }
   ],
   "source": [
    "# See the distribution of animal type\n",
    "sns.countplot(df.AnimalType, palette='Set1')"
   ]
  },
  {
   "cell_type": "markdown",
   "metadata": {},
   "source": [
    "## Plotting based on the OutcomeType\n",
    "### Adopting and Transferring has been popular among the shelter animals  "
   ]
  },
  {
   "cell_type": "code",
   "execution_count": 35,
   "metadata": {},
   "outputs": [
    {
     "data": {
      "text/plain": [
       "<matplotlib.axes._subplots.AxesSubplot at 0xdf38a7e908>"
      ]
     },
     "execution_count": 35,
     "metadata": {},
     "output_type": "execute_result"
    },
    {
     "data": {
      "image/png": "[encoded data removed]",
      "text/plain": [
       "<matplotlib.figure.Figure at 0xdf38aa5400>"
      ]
     },
     "metadata": {},
     "output_type": "display_data"
    }
   ],
   "source": [
    "# See the distribution of outcome\n",
    "sns.countplot(df.OutcomeType,palette='Set1')"
   ]
  },
  {
   "cell_type": "markdown",
   "metadata": {},
   "source": [
    "# Plotting between AnimalType and the OutcomeType\n",
    "### We could see different scenarios for dogs and cats. Most of the cats were either transferred or Adopted.\n",
    "### whereas most of the dogs got adopted, few were returned to the owner and fewer got transferred."
   ]
  },
  {
   "cell_type": "code",
   "execution_count": 36,
   "metadata": {},
   "outputs": [
    {
     "data": {
      "text/plain": [
       "<matplotlib.axes._subplots.AxesSubplot at 0xdf3873e978>"
      ]
     },
     "execution_count": 36,
     "metadata": {},
     "output_type": "execute_result"
    },
    {
     "data": {
      "image/png": "[encoded data removed]",
      "text/plain": [
       "<matplotlib.figure.Figure at 0xdf38761320>"
      ]
     },
     "metadata": {},
     "output_type": "display_data"
    }
   ],
   "source": [
    "plt.figure(figsize=(17,6))\n",
    "sns.countplot(df.AnimalType,hue=df.OutcomeType,palette='Set1')"
   ]
  },
  {
   "cell_type": "markdown",
   "metadata": {},
   "source": [
    "### Most of the animals in the shelter are either spayed female or neutered male"
   ]
  },
  {
   "cell_type": "code",
   "execution_count": 37,
   "metadata": {},
   "outputs": [
    {
     "data": {
      "text/plain": [
       "<matplotlib.axes._subplots.AxesSubplot at 0xdf38b81898>"
      ]
     },
     "execution_count": 37,
     "metadata": {},
     "output_type": "execute_result"
    },
    {
     "data": {
      "image/png": "[encoded data removed]",
      "text/plain": [
       "<matplotlib.figure.Figure at 0xdf3876b128>"
      ]
     },
     "metadata": {},
     "output_type": "display_data"
    }
   ],
   "source": [
    "sns.countplot(df.SexuponOutcome, palette='Set1')"
   ]
  },
  {
   "cell_type": "markdown",
   "metadata": {},
   "source": [
    "## Looking at the parameters that might influence the outcome"
   ]
  },
  {
   "cell_type": "code",
   "execution_count": 38,
   "metadata": {
    "collapsed": true
   },
   "outputs": [],
   "source": [
    "# Creating a new column for gender\n",
    "def get_sex(x):\n",
    "    x = str(x)\n",
    "    if x.find('Male') >= 0: return 'male'\n",
    "    if x.find('Female') >= 0: return 'female'\n",
    "    return 'unknown'\n",
    "\n",
    "df['Sex'] = df.SexuponOutcome.apply(get_sex)"
   ]
  },
  {
   "cell_type": "markdown",
   "metadata": {},
   "source": [
    "### Male and Females were equally adopted and transferred.\n",
    "### Similarly the number of males returned to the owner  were more than females. "
   ]
  },
  {
   "cell_type": "code",
   "execution_count": 39,
   "metadata": {},
   "outputs": [
    {
     "data": {
      "text/plain": [
       "<matplotlib.axes._subplots.AxesSubplot at 0xdf38c812e8>"
      ]
     },
     "execution_count": 39,
     "metadata": {},
     "output_type": "execute_result"
    },
    {
     "data": {
      "image/png": "[encoded data removed]",
      "text/plain": [
       "<matplotlib.figure.Figure at 0xdf38dde550>"
      ]
     },
     "metadata": {},
     "output_type": "display_data"
    }
   ],
   "source": [
    "f, (ax1, ax2) = plt.subplots(1, 2, figsize=(16, 4))\n",
    "sns.countplot(data=df, x='OutcomeType',hue='Sex', ax=ax1, palette='Set1')\n",
    "sns.countplot(data=df, x='Sex',hue='OutcomeType', ax=ax2, palette='Set1')"
   ]
  },
  {
   "cell_type": "markdown",
   "metadata": {},
   "source": [
    "### Dogs tend to be returned to owner more often than cats. And cats are transferred more often than dogs."
   ]
  },
  {
   "cell_type": "code",
   "execution_count": 40,
   "metadata": {},
   "outputs": [
    {
     "data": {
      "text/plain": [
       "<matplotlib.axes._subplots.AxesSubplot at 0xdf38f9ff98>"
      ]
     },
     "execution_count": 40,
     "metadata": {},
     "output_type": "execute_result"
    },
    {
     "data": {
      "image/png": "[encoded data removed]",
      "text/plain": [
       "<matplotlib.figure.Figure at 0xdf38b0c4a8>"
      ]
     },
     "metadata": {},
     "output_type": "display_data"
    }
   ],
   "source": [
    "f, (ax1, ax2) = plt.subplots(1, 2, figsize=(16, 4))\n",
    "sns.countplot(data=df, x='OutcomeType',hue='AnimalType', ax=ax1, palette='Set1')\n",
    "sns.countplot(data=df, x='AnimalType',hue='OutcomeType', ax=ax2, palette='Set1')"
   ]
  },
  {
   "cell_type": "code",
   "execution_count": 42,
   "metadata": {
    "collapsed": true
   },
   "outputs": [],
   "source": [
    "def calc_age_in_years(x):\n",
    "    x = str(x)\n",
    "    if x == 'nan': return 0\n",
    "    age = int(x.split()[0])\n",
    "    if x.find('year') > -1: return age \n",
    "    if x.find('month')> -1: return age / 12.\n",
    "    if x.find('week')> -1: return age / 52.\n",
    "    if x.find('day')> -1: return age / 365.\n",
    "    else: return 0"
   ]
  },
  {
   "cell_type": "code",
   "execution_count": 43,
   "metadata": {
    "collapsed": true
   },
   "outputs": [],
   "source": [
    "df['AgeInYears'] = df.AgeuponOutcome.apply(calc_age_in_years)"
   ]
  },
  {
   "cell_type": "code",
   "execution_count": 44,
   "metadata": {
    "collapsed": true
   },
   "outputs": [],
   "source": [
    "def calc_age_category(x):\n",
    "    if x < 3: return 'young'\n",
    "    if x < 5: return 'young adult'\n",
    "    if x < 10: return 'adult'\n",
    "    return 'old'\n",
    "\n",
    "df['AgeCategory'] = df.AgeInYears.apply(calc_age_category)"
   ]
  },
  {
   "cell_type": "markdown",
   "metadata": {},
   "source": [
    "### Young cats and dogs have much higher chances to be adopted or transferred than to be returned to owner or  something else, while older animals with approximately equal probability can be adopted, transferred or returned"
   ]
  },
  {
   "cell_type": "code",
   "execution_count": 45,
   "metadata": {},
   "outputs": [
    {
     "data": {
      "text/plain": [
       "<matplotlib.axes._subplots.AxesSubplot at 0xdf367e8d68>"
      ]
     },
     "execution_count": 45,
     "metadata": {},
     "output_type": "execute_result"
    },
    {
     "data": {
      "image/png": "[encoded data removed]",
      "text/plain": [
       "<matplotlib.figure.Figure at 0xdf376865c0>"
      ]
     },
     "metadata": {},
     "output_type": "display_data"
    }
   ],
   "source": [
    "f, (ax1, ax2) = plt.subplots(1, 2, figsize=(16, 4))\n",
    "sns.countplot(data=df, x='OutcomeType',hue='AgeCategory', ax=ax1,palette='Set1')\n",
    "sns.countplot(data=df, x='AgeCategory',hue='OutcomeType', ax=ax2,palette='Set1')"
   ]
  },
  {
   "cell_type": "markdown",
   "metadata": {},
   "source": [
    "## Normalizing the columns in a dataset is a must for uniformity, hence the we converted the AgeuponOutcome to a common unit, i.e; weeks."
   ]
  },
  {
   "cell_type": "code",
   "execution_count": 46,
   "metadata": {},
   "outputs": [
    {
     "name": "stdout",
     "output_type": "stream",
     "text": [
      "  AnimalID     Name          DateTime      OutcomeType OutcomeSubtype  \\\n",
      "0  A671945  Hambone  12-02-2014 18:22  Return_to_owner            NaN   \n",
      "1  A656520    Emily  13-10-2013 12:44       Euthanasia      Suffering   \n",
      "2  A686464   Pearce  31-01-2015 12:28         Adoption         Foster   \n",
      "3  A683430      NaN  11-07-2014 19:09         Transfer        Partner   \n",
      "4  A667013      NaN  15-11-2013 12:52         Transfer        Partner   \n",
      "\n",
      "  AnimalType SexuponOutcome                        Breed        Color     Sex  \\\n",
      "0        Dog  Neutered Male        Shetland Sheepdog Mix  Brown/White    male   \n",
      "1        Cat  Spayed Female       Domestic Shorthair Mix  Cream Tabby  female   \n",
      "2        Dog  Neutered Male                 Pit Bull Mix   Blue/White    male   \n",
      "3        Cat    Intact Male       Domestic Shorthair Mix   Blue Cream    male   \n",
      "4        Dog  Neutered Male  Lhasa Apso/Miniature Poodle          Tan    male   \n",
      "\n",
      "   AgeInYears AgeCategory  _AgeuponOutcome  \n",
      "0    1.000000       young             52.0  \n",
      "1    1.000000       young             52.0  \n",
      "2    2.000000       young            104.0  \n",
      "3    0.057692       young              3.0  \n",
      "4    2.000000       young            104.0  \n"
     ]
    }
   ],
   "source": [
    "# convert all of the AgeuponOutcome values into weeks\n",
    "\n",
    "def convert_AgeuponOutcome_to_weeks(df):\n",
    "    result = {}\n",
    "    for k in df['AgeuponOutcome'].unique():\n",
    "        if type(k) != type(\"\"):\n",
    "            result[k] = -1\n",
    "        else:\n",
    "            v1, v2 = k.split()\n",
    "            if v2 in [\"year\", \"years\"]:\n",
    "                result[k] = int(v1) * 52\n",
    "            elif v2 in [\"month\", \"months\"]:\n",
    "                result[k] = int(v1) * 4.5\n",
    "            elif v2 in [\"week\", \"weeks\"]:\n",
    "                result[k] = int(v1)\n",
    "            elif v2 in [\"day\", \"days\"]:\n",
    "                result[k] = int(v1) / 7\n",
    "                \n",
    "    df['_AgeuponOutcome'] = df['AgeuponOutcome'].map(result).astype(float)\n",
    "    df = df.drop('AgeuponOutcome', axis = 1)\n",
    "                \n",
    "    return df\n",
    "\n",
    "df = convert_AgeuponOutcome_to_weeks(df)\n",
    "test_df = convert_AgeuponOutcome_to_weeks(test_df)\n",
    "\n",
    "print (df.head())"
   ]
  },
  {
   "cell_type": "markdown",
   "metadata": {},
   "source": [
    "## Converting the rest of the categorical data to numeric type for easier classifications"
   ]
  },
  {
   "cell_type": "code",
   "execution_count": 47,
   "metadata": {},
   "outputs": [
    {
     "name": "stdout",
     "output_type": "stream",
     "text": [
      "  AnimalID     Name          DateTime      OutcomeType OutcomeSubtype  \\\n",
      "0  A671945  Hambone  12-02-2014 18:22  Return_to_owner            NaN   \n",
      "1  A656520    Emily  13-10-2013 12:44       Euthanasia      Suffering   \n",
      "2  A686464   Pearce  31-01-2015 12:28         Adoption         Foster   \n",
      "3  A683430      NaN  11-07-2014 19:09         Transfer        Partner   \n",
      "4  A667013      NaN  15-11-2013 12:52         Transfer        Partner   \n",
      "\n",
      "         Color     Sex  AgeInYears AgeCategory  _AgeuponOutcome  _AnimalType  \\\n",
      "0  Brown/White    male    1.000000       young             52.0            0   \n",
      "1  Cream Tabby  female    1.000000       young             52.0            1   \n",
      "2   Blue/White    male    2.000000       young            104.0            0   \n",
      "3   Blue Cream    male    0.057692       young              3.0            1   \n",
      "4          Tan    male    2.000000       young            104.0            0   \n",
      "\n",
      "   _SexuponOutcome  _Breed  \n",
      "0                0       0  \n",
      "1                1       1  \n",
      "2                0       2  \n",
      "3                2       1  \n",
      "4                0       3  \n"
     ]
    }
   ],
   "source": [
    "# convert all of the remaining features to numeric values\n",
    "\n",
    "def convert_to_numeric(df):\n",
    "    for col in ['AnimalType','SexuponOutcome','Breed']:\n",
    "        if col in df.columns:\n",
    "            _col = \"_%s\" % (col)\n",
    "            values = df[col].unique()\n",
    "            _values = dict(zip(values, range(len(values))))\n",
    "            df[_col] = df[col].map(_values).astype(int)\n",
    "            df = df.drop(col, axis = 1)\n",
    "    return df\n",
    "\n",
    "df = convert_to_numeric(df)\n",
    "test_df = convert_to_numeric(test_df)\n",
    "\n",
    "print (df.head())"
   ]
  },
  {
   "cell_type": "code",
   "execution_count": 48,
   "metadata": {},
   "outputs": [
    {
     "name": "stdout",
     "output_type": "stream",
     "text": [
      "  AnimalID     Name      OutcomeType OutcomeSubtype        Color     Sex  \\\n",
      "0  A671945  Hambone  Return_to_owner            NaN  Brown/White    male   \n",
      "1  A656520    Emily       Euthanasia      Suffering  Cream Tabby  female   \n",
      "2  A686464   Pearce         Adoption         Foster   Blue/White    male   \n",
      "3  A683430      NaN         Transfer        Partner   Blue Cream    male   \n",
      "4  A667013      NaN         Transfer        Partner          Tan    male   \n",
      "\n",
      "   AgeInYears AgeCategory  _AgeuponOutcome  _AnimalType  _SexuponOutcome  \\\n",
      "0    1.000000       young             52.0            0                0   \n",
      "1    1.000000       young             52.0            1                1   \n",
      "2    2.000000       young            104.0            0                0   \n",
      "3    0.057692       young              3.0            1                2   \n",
      "4    2.000000       young            104.0            0                0   \n",
      "\n",
      "   _Breed  Day  Month  Year  Hour  Minute  \n",
      "0       0   12      2  2014    18      22  \n",
      "1       1   13     10  2013    12      44  \n",
      "2       2   31      1  2015    12      28  \n",
      "3       1   11      7  2014    19       9  \n",
      "4       3   15     11  2013    12      52  \n"
     ]
    }
   ],
   "source": [
    "# fix the DateTime column\n",
    "\n",
    "def fix_date_time(df):\n",
    "    def extract_field(_df, start, stop):\n",
    "        return _df['DateTime'].map(lambda dt: int(dt[start:stop]))\n",
    "    df['Day'] = extract_field(df,0,2)\n",
    "    df['Month'] = extract_field(df,3,5)\n",
    "    df['Year'] = extract_field(df,6,10)\n",
    "    df['Hour'] = extract_field(df,11,13)\n",
    "    df['Minute'] = extract_field(df,14,16)\n",
    "    \n",
    "    return df.drop(['DateTime'], axis = 1)\n",
    "\n",
    "df = fix_date_time(df)\n",
    "test_df = fix_date_time(test_df)\n",
    "\n",
    "print (df.head())"
   ]
  },
  {
   "cell_type": "code",
   "execution_count": 49,
   "metadata": {},
   "outputs": [
    {
     "name": "stdout",
     "output_type": "stream",
     "text": [
      "(26729, 9)\n",
      "(26729,)\n"
     ]
    }
   ],
   "source": [
    "# Creating feature matrix\n",
    "feature_cols = ['_AnimalType','_SexuponOutcome', '_AgeuponOutcome','_Breed','Day','Month','Year','Hour','Minute']\n",
    "\n",
    "# use the above list to select the features from the original DataFrame\n",
    "X = df[feature_cols] \n",
    "\n",
    "# select a Series of labels (the last column) from the DataFrame\n",
    "y = df['OutcomeType']\n",
    "\n",
    "print(X.shape)\n",
    "print(y.shape)"
   ]
  },
  {
   "cell_type": "markdown",
   "metadata": {},
   "source": [
    "# Evaluating the accuracy of our classifier:\n",
    "\n",
    "#### 1- Let's split the iris dataset RANDOMLY into two new datasets: Training Set (e.g. 70% of the dataset) and Testing Set (30% of the dataset).\n",
    "#### 2- Let's pretend that we do NOT know the label of the Testing Set!\n",
    "#### 3- Let's Train the model on only Training Set, and then Predict on the Testing Set!\n",
    "#### 4- After prediction, we can compare the \"predicted labels\" for the Testing Set with its \"actual labels\" to evaluate the accuracy of our Classifier!"
   ]
  },
  {
   "cell_type": "code",
   "execution_count": 50,
   "metadata": {
    "collapsed": true
   },
   "outputs": [],
   "source": [
    "# Randomly splitting the original dataset into training set and testing set\n",
    "# The function\"train_test_split\" from \"sklearn.cross_validation\" library performs random splitting.\n",
    "# \"test_size=0.2\" means that pick 20% of data samples for testing set, and the rest (80%) for training set.\n",
    "\n",
    "X_train, X_test, y_train, y_test = train_test_split(X, y, test_size=0.2, random_state=1)"
   ]
  },
  {
   "cell_type": "code",
   "execution_count": 65,
   "metadata": {
    "collapsed": true
   },
   "outputs": [],
   "source": [
    "k = 17\n",
    "my_knn = KNeighborsClassifier(n_neighbors=k)\n",
    "\n",
    "my_knn.fit(X_train, y_train)\n",
    "\n",
    "y_predict_knn = my_knn.predict(X_test)"
   ]
  },
  {
   "cell_type": "code",
   "execution_count": 52,
   "metadata": {
    "collapsed": true
   },
   "outputs": [],
   "source": [
    "# \"my_RandomForest\" is instantiated as an \"object\" of RandomForestClassifier \"class\". \n",
    "my_RandomForest = RandomForestClassifier(n_estimators = 250, bootstrap = True, random_state=2)\n",
    "\n",
    "# for training:  \n",
    "\n",
    "my_RandomForest.fit(X_train,y_train) \n",
    "\n",
    "# for testing/prediction:  \n",
    "\n",
    "y_predict_rf = my_RandomForest.predict(X_test)"
   ]
  },
  {
   "cell_type": "code",
   "execution_count": 53,
   "metadata": {
    "collapsed": true
   },
   "outputs": [],
   "source": [
    "# \"my_decisiontree\" is instantiated as an \"object\" of DecisionTreeClassifier \"class\". \n",
    "\n",
    "my_decisiontree = DecisionTreeClassifier()\n",
    "\n",
    "# We can use the method \"fit\" of the objects \"my_decisiontree\" along with training dataset and labels to train the model.\n",
    "\n",
    "my_decisiontree.fit(X_train, y_train)\n",
    "\n",
    "# Testing on the testing set:\n",
    "\n",
    "y_predict_dt = my_decisiontree.predict(X_test)"
   ]
  },
  {
   "cell_type": "code",
   "execution_count": 66,
   "metadata": {
    "collapsed": true
   },
   "outputs": [],
   "source": [
    "# \"my_logreg\" is instantiated as an \"object\" of LogisticRegression \"class\". \n",
    "my_logreg = LogisticRegression()\n",
    "\n",
    "# Training ONLY on the training set:\n",
    "my_logreg.fit(X_train, y_train)\n",
    "\n",
    "# Testing on the testing set:\n",
    "y_predict_lr = my_logreg.predict(X_test)"
   ]
  },
  {
   "cell_type": "code",
   "execution_count": 67,
   "metadata": {
    "collapsed": true
   },
   "outputs": [],
   "source": [
    "# \"sgd\" is instantiated as an \"object\" of SGD \"class\".\n",
    "my_sgd = SGDClassifier()\n",
    "\n",
    "my_sgd.fit(X_train, y_train)\n",
    "\n",
    "y_predict_sgd = my_sgd.predict(X_test)"
   ]
  },
  {
   "cell_type": "code",
   "execution_count": 77,
   "metadata": {
    "collapsed": true
   },
   "outputs": [],
   "source": [
    "my_et = ExtraTreeClassifier()\n",
    "\n",
    "my_et.fit(X_train, y_train)\n",
    "\n",
    "y_predict_et = my_et.predict(X_test)"
   ]
  },
  {
   "cell_type": "code",
   "execution_count": 93,
   "metadata": {
    "collapsed": true
   },
   "outputs": [],
   "source": [
    "my_ets = ExtraTreesClassifier(n_estimators=175)\n",
    "\n",
    "my_ets.fit(X_train, y_train)\n",
    "\n",
    "y_predict_ets = my_ets.predict(X_test)"
   ]
  },
  {
   "cell_type": "code",
   "execution_count": 55,
   "metadata": {
    "collapsed": true
   },
   "outputs": [],
   "source": [
    "# \"gnb\" is instantiated as an \"object\" of Gaussian Naive Bayes \"class\".\n",
    "gnb = GaussianNB()\n",
    "\n",
    "gnb.fit(X_train, y_train)\n",
    "\n",
    "y_predict_gb = gnb.predict(X_test)"
   ]
  },
  {
   "cell_type": "code",
   "execution_count": 94,
   "metadata": {},
   "outputs": [
    {
     "name": "stdout",
     "output_type": "stream",
     "text": [
      "SGD CLASSIFIER ACCURACY: 0.415824915825\n",
      "KNN ACCURACY: 0.594837261504\n",
      "DECISION TREE ACCURACY: 0.594837261504\n",
      "EXTRA TREE ACCURACY: 0.564347175458\n",
      "EXTRA TREES ACCURACY: 0.678638234194\n",
      "GAUSSIAN NAIVE BAYES ACCURACY: 0.618780396558\n",
      "LOGISTIC REGRESSION ACCURACY: 0.627946127946\n",
      "RANDOM FOREST ACCURACY: 0.685185185185\n"
     ]
    }
   ],
   "source": [
    "# Predicting accuracy for KNN\n",
    "knn_accuracy = accuracy_score(y_test, y_predict_knn)\n",
    "\n",
    "# Predicting accuracy for DecisiontTree\n",
    "dt_accuracy = accuracy_score(y_test, y_predict_dt)\n",
    "\n",
    "# Predicting accuracy for RandomForest\n",
    "rf_accuracy = accuracy_score(y_test, y_predict_rf)\n",
    "\n",
    "# Predicting accuracy for LogisticRegression\n",
    "lr_accuracy = accuracy_score(y_test, y_predict_lr)\n",
    "\n",
    "# Predicting accuracy for GaussianNB\n",
    "gb_accuracy = accuracy_score(y_test, y_predict_gb)\n",
    "\n",
    "# Predicting accuracy for SGD\n",
    "sgd_accuracy = accuracy_score(y_test, y_predict_sgd)\n",
    "\n",
    "# Predicting accuracy for Extra Tree\n",
    "et_accuracy = accuracy_score(y_test, y_predict_et)\n",
    "\n",
    "# Predicting accuracy for Extra Trees\n",
    "ets_accuracy = accuracy_score(y_test, y_predict_ets)\n",
    "\n",
    "print('SGD CLASSIFIER ACCURACY:',sgd_accuracy)\n",
    "print('KNN ACCURACY:',dt_accuracy)\n",
    "print('DECISION TREE ACCURACY:',dt_accuracy)\n",
    "print('EXTRA TREE ACCURACY:',et_accuracy)\n",
    "print('EXTRA TREES ACCURACY:',ets_accuracy)\n",
    "print('GAUSSIAN NAIVE BAYES ACCURACY:',gb_accuracy)\n",
    "print('LOGISTIC REGRESSION ACCURACY:',lr_accuracy)\n",
    "print('RANDOM FOREST ACCURACY:',rf_accuracy)"
   ]
  },
  {
   "cell_type": "code",
   "execution_count": null,
   "metadata": {
    "collapsed": true
   },
   "outputs": [],
   "source": []
  }
 ],
 "metadata": {
  "kernelspec": {
   "display_name": "Python 3",
   "language": "python",
   "name": "python3"
  },
  "language_info": {
   "codemirror_mode": {
    "name": "ipython",
    "version": 3
   },
   "file_extension": ".py",
   "mimetype": "text/x-python",
   "name": "python",
   "nbconvert_exporter": "python",
   "pygments_lexer": "ipython3",
   "version": "3.6.1"
  }
 },
 "nbformat": 4,
 "nbformat_minor": 2
}
